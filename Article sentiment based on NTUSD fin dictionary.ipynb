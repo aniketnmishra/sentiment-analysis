{
 "cells": [
  {
   "cell_type": "markdown",
   "metadata": {},
   "source": [
    "Importing necessary libraries"
   ]
  },
  {
   "cell_type": "code",
   "execution_count": 11,
   "metadata": {},
   "outputs": [],
   "source": [
    "import numpy as np\n",
    "import pandas as pd\n",
    "import matplotlib as plt\n",
    "import nltk\n",
    "import re\n",
    "from nltk.corpus import stopwords\n",
    "from nltk.stem.porter import PorterStemmer\n",
    "import re\n",
    "import json"
   ]
  },
  {
   "cell_type": "markdown",
   "metadata": {},
   "source": [
    "Insert the article in from a .txt file\n",
    "Get a list 'lines' having sentences from .txt file as elements"
   ]
  },
  {
   "cell_type": "code",
   "execution_count": 12,
   "metadata": {},
   "outputs": [],
   "source": [
    "f = open(\"voda loss.txt\", \"r\",encoding=\"utf8\")\n",
    "#file = open(filename, encoding=\"utf8\")\n",
    "lines = list(f)\n",
    "while True:\n",
    "    lines.remove('\\n')\n",
    "    if '\\n' not in lines:\n",
    "        break\n",
    "#print(lines)"
   ]
  },
  {
   "cell_type": "markdown",
   "metadata": {},
   "source": [
    "1. Remove all numbers from 'lines'\n",
    "2. Convert everything to lowercase\n",
    "3. Split the elements of 'lines' to get a list 'corpus' having the words from .txt file as elements"
   ]
  },
  {
   "cell_type": "code",
   "execution_count": 13,
   "metadata": {},
   "outputs": [],
   "source": [
    "corpus=[]\n",
    "for i in range (0,len(lines)):\n",
    "    line = re.sub('[^a-zA-Z]', \" \", lines[i])\n",
    "    line = line.lower()\n",
    "    line = line.split()\n",
    "    #line = [word for word in line if not word in set(stopwords.words('english'))]\n",
    "    #line = ' '.join(line)\n",
    "    corpus.append([word for word in line if not word in set(stopwords.words('english'))])\n",
    "corpus_fin =[]\n",
    "for line in corpus:\n",
    "    for word in line:\n",
    "        corpus_fin.append(word)"
   ]
  },
  {
   "cell_type": "markdown",
   "metadata": {},
   "source": [
    "Function below counts the number of times an element from list2 has appeared in list1"
   ]
  },
  {
   "cell_type": "code",
   "execution_count": 14,
   "metadata": {},
   "outputs": [],
   "source": [
    "def _out_word_freq1(list1, list2):\n",
    "    wordFreqDictObj = {}\n",
    "    for item in list2: \n",
    "        if item in list1: \n",
    "            wordFreqDictObj[item] = wordFreqDictObj.get(item, 0) + 1\n",
    "    return wordFreqDictObj"
   ]
  },
  {
   "cell_type": "markdown",
   "metadata": {},
   "source": [
    "Stemming of words in corpus_fin to get st_corp"
   ]
  },
  {
   "cell_type": "code",
   "execution_count": 15,
   "metadata": {},
   "outputs": [],
   "source": [
    "ps_corpus = PorterStemmer()\n",
    "st_corp=[]\n",
    "for word in corpus_fin:\n",
    "    word=ps_corpus.stem(word)\n",
    "    st_corp.append(word)\n",
    "#print(len(st_corp))"
   ]
  },
  {
   "cell_type": "markdown",
   "metadata": {},
   "source": [
    "Import the NTUSD_fin dictionary which has root words and their sentiments"
   ]
  },
  {
   "cell_type": "code",
   "execution_count": 16,
   "metadata": {},
   "outputs": [],
   "source": [
    "with open('NTUSD_fin.json') as json_file:\n",
    "    final = json.load(json_file)"
   ]
  },
  {
   "cell_type": "markdown",
   "metadata": {},
   "source": [
    "Calculate the frequency of words which are their in st_corp and in NTUSD dictionary. 'freq' contains the root words which are their in both st_corp and NTUSD dictionary with their frequency (only for those who have frequency >= 1)"
   ]
  },
  {
   "cell_type": "code",
   "execution_count": 17,
   "metadata": {},
   "outputs": [],
   "source": [
    "st_findict=[]\n",
    "for i in final:\n",
    "    st_findict.append(i)\n",
    "freq =_out_word_freq1(st_findict,st_corp)"
   ]
  },
  {
   "cell_type": "markdown",
   "metadata": {},
   "source": [
    "Calculate the sentiment score"
   ]
  },
  {
   "cell_type": "code",
   "execution_count": 18,
   "metadata": {},
   "outputs": [
    {
     "name": "stdout",
     "output_type": "stream",
     "text": [
      "Sentiment = 0.2648672384726172\n",
      "Sentiment1 = 0.2807468902566532\n"
     ]
    }
   ],
   "source": [
    "tot=0\n",
    "tot1=0\n",
    "deno=0\n",
    "deno1=0\n",
    "for i in freq:\n",
    "    tot=tot+freq[i]*final[i]\n",
    "    tot1=tot1+final[i]\n",
    "    deno=deno+freq[i]\n",
    "    deno1=deno1+1\n",
    "sent = tot/deno\n",
    "sent1 = tot1/deno1\n",
    "print (\"Sentiment =\",sent )\n",
    "print (\"Sentiment1 =\",sent1 )"
   ]
  },
  {
   "cell_type": "code",
   "execution_count": null,
   "metadata": {},
   "outputs": [],
   "source": []
  }
 ],
 "metadata": {
  "kernelspec": {
   "display_name": "Python 3",
   "language": "python",
   "name": "python3"
  },
  "language_info": {
   "codemirror_mode": {
    "name": "ipython",
    "version": 3
   },
   "file_extension": ".py",
   "mimetype": "text/x-python",
   "name": "python",
   "nbconvert_exporter": "python",
   "pygments_lexer": "ipython3",
   "version": "3.7.5"
  }
 },
 "nbformat": 4,
 "nbformat_minor": 2
}
