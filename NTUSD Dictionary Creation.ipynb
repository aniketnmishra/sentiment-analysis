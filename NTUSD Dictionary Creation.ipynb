{
 "cells": [
  {
   "cell_type": "markdown",
   "metadata": {},
   "source": [
    "Importing necessary libraries"
   ]
  },
  {
   "cell_type": "code",
   "execution_count": 19,
   "metadata": {},
   "outputs": [],
   "source": [
    "import numpy as np\n",
    "import pandas as pd\n",
    "import matplotlib as plt\n",
    "import nltk\n",
    "import re\n",
    "from nltk.corpus import stopwords\n",
    "from nltk.stem.porter import PorterStemmer\n",
    "import re\n",
    "import json"
   ]
  },
  {
   "cell_type": "code",
   "execution_count": 1,
   "metadata": {},
   "outputs": [],
   "source": [
    "with open('NTUSD_Fin_word_v1.0.json') as json_file:\n",
    "    data = json.load(json_file)"
   ]
  },
  {
   "cell_type": "code",
   "execution_count": 20,
   "metadata": {},
   "outputs": [],
   "source": [
    "findict =[]\n",
    "mktsnt =[]\n",
    "for dictionary in data:\n",
    "    findict.append(dictionary['token'])\n",
    "    mktsnt.append(dictionary['market_sentiment'])"
   ]
  },
  {
   "cell_type": "code",
   "execution_count": 21,
   "metadata": {},
   "outputs": [],
   "source": [
    "word_to_snt=dict(zip(findict, mktsnt))"
   ]
  },
  {
   "cell_type": "code",
   "execution_count": 22,
   "metadata": {},
   "outputs": [],
   "source": [
    "ps_findict = PorterStemmer()\n",
    "st_findict=[]\n",
    "for word in findict:\n",
    "    word=ps_findict.stem(word)\n",
    "    st_findict.append(word)\n",
    "#print(len(st_findict))"
   ]
  },
  {
   "cell_type": "code",
   "execution_count": 8,
   "metadata": {},
   "outputs": [],
   "source": [
    "word_to_root = dict(zip(findict, st_findict))\n",
    "#print(len(word_to_root))"
   ]
  },
  {
   "cell_type": "code",
   "execution_count": 9,
   "metadata": {},
   "outputs": [],
   "source": [
    "df_word_to_root = pd.DataFrame.from_dict(word_to_root, orient = 'index',columns=['root'])\n",
    "df_word_to_root.reset_index(inplace=True)\n",
    "df_word_to_root.columns = ['word','root']\n",
    "#print(len(df_word_to_root))\n",
    "#df_word_to_root.head()"
   ]
  },
  {
   "cell_type": "code",
   "execution_count": 11,
   "metadata": {},
   "outputs": [],
   "source": [
    "df_word_to_snt = pd.DataFrame.from_dict(word_to_snt, orient = 'index',columns=['snt'])\n",
    "df_word_to_snt.reset_index(inplace=True)\n",
    "df_word_to_snt.columns = ['word','snt']\n",
    "#print(len(df_word_to_snt))\n",
    "#df_word_to_snt.head()"
   ]
  },
  {
   "cell_type": "code",
   "execution_count": 13,
   "metadata": {},
   "outputs": [],
   "source": [
    "df_concat = pd.concat([df_word_to_snt, df_word_to_root], axis=1)\n",
    "df_concat.columns = ['word','snt','word1','root']\n",
    "df_concat.drop(labels=['word1'],axis=1,inplace=True);\n",
    "#df_concat.head()\n",
    "#print(len(df_concat))\n",
    "#df_concat.head()"
   ]
  },
  {
   "cell_type": "code",
   "execution_count": 15,
   "metadata": {},
   "outputs": [],
   "source": [
    "df_concat_dropped = df_concat.drop_duplicates(subset =\"root\",keep = 'first') \n",
    "df_concat_dropped.reset_index(inplace=True)"
   ]
  },
  {
   "cell_type": "code",
   "execution_count": 16,
   "metadata": {},
   "outputs": [],
   "source": [
    "final ={}\n",
    "for row in df_concat_dropped.itertuples():\n",
    "    tot=0\n",
    "    count=0\n",
    "    for row1 in df_concat.itertuples():\n",
    "        if getattr(row, 'root')==getattr(row1, 'root'):\n",
    "            tot=tot+getattr(row1, 'snt')\n",
    "            count=count+1\n",
    "    final[getattr(row, 'root')]=tot/count"
   ]
  },
  {
   "cell_type": "code",
   "execution_count": 18,
   "metadata": {},
   "outputs": [],
   "source": [
    "with open('NTUSD_fin.json', 'w') as fp:\n",
    "    json.dump(final, fp)"
   ]
  }
 ],
 "metadata": {
  "kernelspec": {
   "display_name": "Python 3",
   "language": "python",
   "name": "python3"
  },
  "language_info": {
   "codemirror_mode": {
    "name": "ipython",
    "version": 3
   },
   "file_extension": ".py",
   "mimetype": "text/x-python",
   "name": "python",
   "nbconvert_exporter": "python",
   "pygments_lexer": "ipython3",
   "version": "3.7.5"
  }
 },
 "nbformat": 4,
 "nbformat_minor": 2
}
