{
 "cells": [
  {
   "cell_type": "markdown",
   "metadata": {},
   "source": [
    "importing necessary libraries"
   ]
  },
  {
   "cell_type": "code",
   "execution_count": 1,
   "metadata": {},
   "outputs": [],
   "source": [
    "import numpy as np \n",
    "import pandas as pd \n",
    "import re\n",
    "import nltk \n",
    "from nltk.sentiment.vader import SentimentIntensityAnalyzer\n",
    "import matplotlib.pyplot as plt\n",
    "%matplotlib inline"
   ]
  },
  {
   "cell_type": "markdown",
   "metadata": {},
   "source": [
    "if running on a new pc, vader lexicon has to be downloaded"
   ]
  },
  {
   "cell_type": "code",
   "execution_count": 2,
   "metadata": {},
   "outputs": [],
   "source": [
    "#nltk.download('vader_lexicon')"
   ]
  },
  {
   "cell_type": "markdown",
   "metadata": {},
   "source": [
    "creating a sentiment analysis object"
   ]
  },
  {
   "cell_type": "code",
   "execution_count": 3,
   "metadata": {},
   "outputs": [],
   "source": [
    "sia = SentimentIntensityAnalyzer()"
   ]
  },
  {
   "cell_type": "markdown",
   "metadata": {},
   "source": [
    "save the news text file path into the path variable below "
   ]
  },
  {
   "cell_type": "code",
   "execution_count": 9,
   "metadata": {},
   "outputs": [],
   "source": [
    "path = \"C:/Users/G/Desktop/ISB/NLP/Financial news vader/yesbk fall.txt\""
   ]
  },
  {
   "cell_type": "code",
   "execution_count": 26,
   "metadata": {},
   "outputs": [],
   "source": [
    "with open(path,'r') as file:\n",
    "    passage = file.read()\n",
    "file.close()"
   ]
  },
  {
   "cell_type": "markdown",
   "metadata": {},
   "source": [
    "replace new lines with space. They confuse the model and lead to bad scores."
   ]
  },
  {
   "cell_type": "code",
   "execution_count": 16,
   "metadata": {},
   "outputs": [],
   "source": [
    "passage = passage.replace('\\n','')"
   ]
  },
  {
   "cell_type": "code",
   "execution_count": 17,
   "metadata": {},
   "outputs": [
    {
     "name": "stdout",
     "output_type": "stream",
     "text": [
      "-0.5555\n"
     ]
    }
   ],
   "source": [
    "sentiment_score = sia.polarity_scores(passage)['compound']\n",
    "print(sentiment_score)"
   ]
  },
  {
   "cell_type": "markdown",
   "metadata": {},
   "source": [
    "some more examples"
   ]
  },
  {
   "cell_type": "code",
   "execution_count": 18,
   "metadata": {},
   "outputs": [],
   "source": [
    "passage1='''The benchmark indices ending Friday's session at record closing highs, after investors' optimism was boosted by Narendra Modi-led National Democratic Alliance (NDA's) return to power the previous day. While the gains were across the board, bank stocks and financials made the highest contribution to the indices' rise.\n",
    "\n",
    "The S&P BSE Sensex ended the day 623 points, or 1.6 per cent, higher at 39,435, with ICICI Bank, Larsen & Toubro, Bharti Airtel, Vedanta, and Tata Motors leading the list of gainers. Oout of the 30 BSE constituents, only Hindustan Unilever and NTPC ended the day in the red. \n",
    "\n",
    "The broader Nifty50 index rose 187 points to settle at 11,844. About 1823 shares advanced, while 676 declined, and 150 shares remained unchanged on the NSE. \n",
    "\n",
    "This was the benchmark indices' biggest weekly gain in 2019. \n",
    "\n",
    "India VIX, a measure of voltality in Nifty, slipped 40 per cent in the last two days, registering its biggest 2-day fall in five years.\n",
    "\n",
    "In the broader market, the S&P BSE MidCap index jumped 295 points, or 2 per cent, to hover at 14,945 levels, while the S&P BSE SmallCap closed at 14,670 levels, up 347 points, or 2.4 per cent.\n",
    "\n",
    "All the Nifty sectoral indices ended the day with gains, with Nifty PSU Bank gaining the maximum 5.6 per cent, while Nifty Realty also rose 4.4 per cent.'''"
   ]
  },
  {
   "cell_type": "code",
   "execution_count": 19,
   "metadata": {},
   "outputs": [
    {
     "name": "stdout",
     "output_type": "stream",
     "text": [
      "SS 0.9779\n"
     ]
    }
   ],
   "source": [
    "print(\"SS\",sia.polarity_scores(passage1)['compound'])"
   ]
  },
  {
   "cell_type": "code",
   "execution_count": 20,
   "metadata": {},
   "outputs": [],
   "source": [
    "passage2='''On consolidated basis, the company reported a net loss of Rs 50,921.9 crore in Q2 September 2019 as against a net loss of Rs 4973 crore in Q2 September 2018.\n",
    "\n",
    "The telecom operator reported a 41.8% rise in net sales to Rs 10840.20 crore on a YoY basis.\n",
    "\n",
    "The Supreme Court (SC) judgment on 24 October on the Adjusted Gross Revenue (AGR) significantly impacted the financial stability of the company. SC provided the company a 90 days time to pay the amount and report compliance. Consequent to the SC judgement, the company accounted for the estimated liability of Rs 27,610 crore related to license fee and Rs 16,540 crore related to spectrum usage charges up to 30 September 2019 including the interest, penalty and interest thereon of Rs 33,010 crore.\n",
    "\n",
    "The Average Revenue per User (ARPU) declined from Rs 108 in Q1 June 2019 to Rs 107 in Q2 September 2019, impacted by seasonality and by severe floods.\n",
    "\n",
    "The subscriber base declined to 311.1 million from 320 million in Q1FY20. Subscriber churn continues to improve, reaching 3.5% in Q2FY20 compared to 3.7% in Q1FY20 and 7.2% in Q4FY19. During the quarter, gross subscriber additions has also increased QoQ. ARPU for Q2 was Rs 107 vs Rs 108 in Q1FY20.\n",
    "\n",
    "Gross debt as of 30 September 2019 was Rs 1,17,300 crore, including deferred spectrum payment obligations due to the government of Rs 89,170 crore, but excluding lease liabilities. Cash & cash equivalents were Rs 15,390 crore and net debt Rs 1,01,910 crore (vs Rs 99,260 crore in Q1FY20).\n",
    "\n",
    "With reference to news item captioned, \"Vodafone Idea cracks 22% as AB Group unlikely to bring in fresh capital,\" the company clarified to the bourses after market hours on Thursday that it can not provide any clarification/confirmation with regard to the above news item as it is not privy to discussions or decisions, if any, of the Aditya Birla Group in this regard. Further, the board of directors has not discussed anything at any of its meeting on the captioned subject.\n",
    "\n",
    "Earlier this month, Brickwork Ratings downgraded its rating on company's non-convertible debentures (NCDs) from BWR A+ to BWR A - with negative implications. The revision in rating was on account of Supreme Court ruling dated 24 October 2019 on the AGR matter.\n",
    "\n",
    "Shares of Vodafone Idea were trading 4.41% lower at Rs 2.82. Meanwhile, the S&P BSE Sensex was trading 0.53% higher at 40,498.14.\n",
    "\n",
    "Vodafone Idea is an Aditya Birla Group and Vodafone Group partnership. It is India's leading telecom service provider. '''"
   ]
  },
  {
   "cell_type": "code",
   "execution_count": 21,
   "metadata": {},
   "outputs": [
    {
     "name": "stdout",
     "output_type": "stream",
     "text": [
      "SS -0.7876\n"
     ]
    }
   ],
   "source": [
    "print(\"SS\",sia.polarity_scores(passage2)['compound'])"
   ]
  },
  {
   "cell_type": "code",
   "execution_count": 22,
   "metadata": {},
   "outputs": [],
   "source": [
    "passage3='''YES Bank shares climbed 6 per cent to Rs 74 on the BSE on Friday ahead of the board meet today to consider fundraising plan.\n",
    "\n",
    "The stock of the private sector lender rallied 17 per cent after the Bank, on Tuesday, said its board will meet on Friday, November 29, 2019, to discuss and consider fundraising by issue of equity/equity linked securities through permissible modes. The fundraising is subject to necessary shareholders/ regulatory approvals, as applicable, it said.\n",
    "\n",
    "On October 31, YES Bank had informed the exchanges that the bank had received a binding offer from a global investor for an investment of $1.2 billion in the bank through fresh issuance of equity shares. The bank received strong interest from multiple foreign as well as domestic private equity and strategic investors for the capital raise, it added.\n",
    "\n",
    "A quick capital raise from a reputable institution holds the key in regaining confidence and giving the YES Bank enough of a buffer on loss absorption, analysts at JP Morgan said.\n",
    "\n",
    "“We rate YES Bank as ‘underweight’ because we believe earnings normalization for the bank will start only in FY22 and that growth will take a hit until the equity-raising issue is resolved. Stress in mid corporate space and Bank’s exposure into this could continue to pressure valuations medium term, in our view,” the foreign brokerage firm said in report dated November 20.\n",
    "\n",
    "At 10:10 am, YES Bank was trading 4.5 per cent higher at Rs 73 on the BSE, as compared to 0.57 per cent decline in the S&P BSE Sensex. The counter has seen trading volumes with a combined 120 million equity shares, representing 4.5 per cent of total equity of YES Bank, changing hands on the NSE and BSE so far.'''"
   ]
  },
  {
   "cell_type": "code",
   "execution_count": 23,
   "metadata": {},
   "outputs": [
    {
     "name": "stdout",
     "output_type": "stream",
     "text": [
      "SS 0.9914\n"
     ]
    }
   ],
   "source": [
    "print(\"SS\",sia.polarity_scores(passage3)['compound'])"
   ]
  },
  {
   "cell_type": "code",
   "execution_count": 24,
   "metadata": {},
   "outputs": [],
   "source": [
    "passage4=''' Tata Steel will continue to take tougher decisions for its Europe operations to keep its overall business growing, brokerages and rating agencies said.\n",
    "\n",
    "Dutch media outlet NH Nieuws recently reported that Tata Steel Europe, a subsidiary of Tata Steel India, has decided to cut 2,500 jobs, or 25 per cent of its workforce in Europe to save $930 million in costs. The final plan on job cuts will be ready by November, it said.\n",
    "\n",
    "“Performance of Europe operations is going nowhere and it continues to need a lot of support from India operations. In such a scenario, it makes sense to cut down fixed costs (such as headcount) to curtail cash loss and rein in the business condition,” said a senior analyst with a ratings agency on condition of anonymity.\n",
    "\n",
    "Though Europe operations did show some improvement in performance a few quarters ago. Overall, its contribution to the consolidated figures have been a dismal with India operations holding the fort for the steel company. (see chart)\n",
    "\n",
    "“As a management, we are not keen on missing out opportunities in India because we have to keep sending cash to Europe. We have told the (Europe) team that the best way for them to control their future is to be cash-positive,” T V Narendran, chief executive officer (CEO) and managing director (MD) had said earlier.\n",
    "\n",
    "In June 2018, Tata Steel decided to merge its European operations with ThyssenKrupp — giving it ultimately 45 per cent stake in the merged entity. But the merger idea did not go well with the labour unions of ThyssenKrupp, who feared job losses. Besides, investor groups, which held 18 per cent stake in the German company, also did not approve the plan and its share price lost half value in the last one year.\n",
    "\n",
    "In May this year, Tata Steel's plans to merge its European operations with ThyssenKrupp collapsed following objections from the anti-trust authorities of the European Commission.\n",
    "\n",
    "“There is no other major player in the region for any JV with Tata Steel. Also, they (Tata Steel) do not have any plan-B to make operations profitable.\n",
    "\n",
    "In such a situation, the company has no choice but to keep downsizing operations gradually,” said a Mumbai-based brokerage analyst on condition of anonymity.\n",
    "\n",
    "Meanwhile, Tata Steel responded through statement saying, “Like all European steelmakers, Tata Steel Europe continues to experience challenging market conditions, made worse by the use of Europe as a dumping ground for the world’s excess capacity.”\n",
    "\n",
    "“We launched a transformation programme in Tata Steel Europe in June to strengthen our business. We are aiming to develop a simpler and leaner organisation, capable of sustainably financing high levels of investment, which are essential to our long-term success,” Tata Steel spokesperson was quoted as saying. According to the company, the programme is gathering pace to urgently improve performance. Proposals are being developed to improve supply chain, manufacturing performance and raw materials usage, as well as efficiency gains through digitalisation. \"We expect these to include a reduction in our employment costs which would be subject to the full consultation process with employee representatives.\"\n",
    "\n",
    "In April 2007, Tata Steel announced that the company has completed its $12 billion acquisition of Corus Group plc (Corus). After this acquisition, Tata Steel will have crude steel production of 27 million tonne (MT) and will be the world’s fifth largest steel producer with 84,000 employees across four continents.\n",
    "\n",
    "Tata Steel entered the Europe market (in 2007) when consumption was on a declining trend in the region. Around the same period, players such as JFE Holdings Inc, the world's fifth-biggest steelmaker and Nippon Steel made an entry in the India market, where consumption has been continuously rising.\n",
    "\n",
    "According to the World Steel Association data, consumption of crude steel in the European Union region has declined to 178 million tonne in 2017 from 207 million tonne in 2008. During the period, consumption pattern has been erratic and not displaying any clear growing demand trend. Meanwhile, in the period under review, crude steel consumption in India was continuously on a rise, and in fact nearly doubled to reach 101 million tonne 2017 from 56 million tonne in 2008.\n",
    "\n",
    "According to the latest Care Ratings report, the domestic operations of Tata Steel continue to remain strong with PBILDT (profit before interest, lease, depreciation and tax) of Rs 23,833 crore during FY19 leading to PBILDT per tonne of Rs 14,679.\n",
    "\n",
    "However, the financial performance of the European operations continued to remain subdued with EBITDA of Rs 5,414 crore, thereby leading to PBILDT per tonne of Rs 5,634\n",
    "\n",
    "The profitability from European operations is constrained by factors such as a lack of captive raw material sources, intense competition, high employee costs and overheads. Thus, the strong performance demonstrated by the company in the domestic markets at operating profit level is partly offset by the subdued performance in the European market thereby keeping the consolidated PBILDT at Rs 30,734 crore with consolidated PBILDT per tonne of Rs 11,468 as compared to domestic EBIDTA per tonne of Rs 14,679, said CARE.'''"
   ]
  },
  {
   "cell_type": "code",
   "execution_count": 25,
   "metadata": {},
   "outputs": [
    {
     "name": "stdout",
     "output_type": "stream",
     "text": [
      "SS 0.9659\n"
     ]
    }
   ],
   "source": [
    "print(\"SS\",sia.polarity_scores(passage4)['compound'])"
   ]
  }
 ],
 "metadata": {
  "kernelspec": {
   "display_name": "Python 3",
   "language": "python",
   "name": "python3"
  },
  "language_info": {
   "codemirror_mode": {
    "name": "ipython",
    "version": 3
   },
   "file_extension": ".py",
   "mimetype": "text/x-python",
   "name": "python",
   "nbconvert_exporter": "python",
   "pygments_lexer": "ipython3",
   "version": "3.7.5"
  }
 },
 "nbformat": 4,
 "nbformat_minor": 2
}
